{
 "cells": [
  {
   "cell_type": "code",
   "execution_count": 2,
   "metadata": {},
   "outputs": [],
   "source": [
    "%matplotlib inline\n",
    "\n",
    "import os\n",
    "import numpy as np\n",
    "import pandas as pd\n",
    "\n",
    "from tqdm import tqdm\n",
    "\n",
    "import seaborn as sns\n",
    "import matplotlib.pylab as plt\n",
    "plt.rcParams[\"figure.figsize\"] = (14, 10)\n",
    "\n",
    "# from pandas_utils import load_data, join_timestamp_per_gps_info\n",
    "from pandas_utils import USE_GET_COLUMNS, USE_REQ_COLUMNS, DSME_WORK_STATION\n",
    "from location_utils import check_gps_in_area\n",
    "from shapely.geometry import Point, Polygon, mapping"
   ]
  },
  {
   "cell_type": "markdown",
   "metadata": {},
   "source": [
    "### 데이터 불러오기"
   ]
  },
  {
   "cell_type": "code",
   "execution_count": 3,
   "metadata": {
    "scrolled": true
   },
   "outputs": [
    {
     "data": {
      "text/html": [
       "<div>\n",
       "<style scoped>\n",
       "    .dataframe tbody tr th:only-of-type {\n",
       "        vertical-align: middle;\n",
       "    }\n",
       "\n",
       "    .dataframe tbody tr th {\n",
       "        vertical-align: top;\n",
       "    }\n",
       "\n",
       "    .dataframe thead th {\n",
       "        text-align: right;\n",
       "    }\n",
       "</style>\n",
       "<table border=\"1\" class=\"dataframe\">\n",
       "  <thead>\n",
       "    <tr style=\"text-align: right;\">\n",
       "      <th></th>\n",
       "      <th>Unnamed: 0</th>\n",
       "      <th>eqp_id</th>\n",
       "      <th>gps_lat</th>\n",
       "      <th>gps_lon</th>\n",
       "      <th>timestamp</th>\n",
       "      <th>is_generator_on</th>\n",
       "    </tr>\n",
       "  </thead>\n",
       "  <tbody>\n",
       "    <tr>\n",
       "      <td>0</td>\n",
       "      <td>0</td>\n",
       "      <td>N-229</td>\n",
       "      <td>34.878154</td>\n",
       "      <td>128.703939</td>\n",
       "      <td>2020-01-01 00:00:00</td>\n",
       "      <td>False</td>\n",
       "    </tr>\n",
       "    <tr>\n",
       "      <td>1</td>\n",
       "      <td>1</td>\n",
       "      <td>N-313</td>\n",
       "      <td>34.873291</td>\n",
       "      <td>128.718685</td>\n",
       "      <td>2020-01-01 00:00:00</td>\n",
       "      <td>False</td>\n",
       "    </tr>\n",
       "    <tr>\n",
       "      <td>2</td>\n",
       "      <td>2</td>\n",
       "      <td>N-630</td>\n",
       "      <td>34.877161</td>\n",
       "      <td>128.709587</td>\n",
       "      <td>2020-01-01 00:00:02</td>\n",
       "      <td>False</td>\n",
       "    </tr>\n",
       "    <tr>\n",
       "      <td>3</td>\n",
       "      <td>3</td>\n",
       "      <td>N-499</td>\n",
       "      <td>34.873604</td>\n",
       "      <td>128.700586</td>\n",
       "      <td>2020-01-01 00:00:03</td>\n",
       "      <td>False</td>\n",
       "    </tr>\n",
       "    <tr>\n",
       "      <td>4</td>\n",
       "      <td>4</td>\n",
       "      <td>N-576</td>\n",
       "      <td>34.873706</td>\n",
       "      <td>128.718115</td>\n",
       "      <td>2020-01-01 00:00:03</td>\n",
       "      <td>False</td>\n",
       "    </tr>\n",
       "    <tr>\n",
       "      <td>...</td>\n",
       "      <td>...</td>\n",
       "      <td>...</td>\n",
       "      <td>...</td>\n",
       "      <td>...</td>\n",
       "      <td>...</td>\n",
       "      <td>...</td>\n",
       "    </tr>\n",
       "    <tr>\n",
       "      <td>14642100</td>\n",
       "      <td>3119019</td>\n",
       "      <td>N-347</td>\n",
       "      <td>34.877063</td>\n",
       "      <td>128.705990</td>\n",
       "      <td>2019-12-31 23:59:57</td>\n",
       "      <td>False</td>\n",
       "    </tr>\n",
       "    <tr>\n",
       "      <td>14642101</td>\n",
       "      <td>3119020</td>\n",
       "      <td>N-414</td>\n",
       "      <td>34.876693</td>\n",
       "      <td>128.704704</td>\n",
       "      <td>2019-12-31 23:59:57</td>\n",
       "      <td>False</td>\n",
       "    </tr>\n",
       "    <tr>\n",
       "      <td>14642102</td>\n",
       "      <td>3119021</td>\n",
       "      <td>N-618</td>\n",
       "      <td>34.875948</td>\n",
       "      <td>128.701888</td>\n",
       "      <td>2019-12-31 23:59:58</td>\n",
       "      <td>True</td>\n",
       "    </tr>\n",
       "    <tr>\n",
       "      <td>14642103</td>\n",
       "      <td>3119022</td>\n",
       "      <td>N-229</td>\n",
       "      <td>34.878154</td>\n",
       "      <td>128.703939</td>\n",
       "      <td>2020-01-01 00:00:00</td>\n",
       "      <td>False</td>\n",
       "    </tr>\n",
       "    <tr>\n",
       "      <td>14642104</td>\n",
       "      <td>3119023</td>\n",
       "      <td>N-313</td>\n",
       "      <td>34.873291</td>\n",
       "      <td>128.718685</td>\n",
       "      <td>2020-01-01 00:00:00</td>\n",
       "      <td>False</td>\n",
       "    </tr>\n",
       "  </tbody>\n",
       "</table>\n",
       "<p>14642105 rows × 6 columns</p>\n",
       "</div>"
      ],
      "text/plain": [
       "          Unnamed: 0 eqp_id    gps_lat     gps_lon            timestamp  \\\n",
       "0                  0  N-229  34.878154  128.703939  2020-01-01 00:00:00   \n",
       "1                  1  N-313  34.873291  128.718685  2020-01-01 00:00:00   \n",
       "2                  2  N-630  34.877161  128.709587  2020-01-01 00:00:02   \n",
       "3                  3  N-499  34.873604  128.700586  2020-01-01 00:00:03   \n",
       "4                  4  N-576  34.873706  128.718115  2020-01-01 00:00:03   \n",
       "...              ...    ...        ...         ...                  ...   \n",
       "14642100     3119019  N-347  34.877063  128.705990  2019-12-31 23:59:57   \n",
       "14642101     3119020  N-414  34.876693  128.704704  2019-12-31 23:59:57   \n",
       "14642102     3119021  N-618  34.875948  128.701888  2019-12-31 23:59:58   \n",
       "14642103     3119022  N-229  34.878154  128.703939  2020-01-01 00:00:00   \n",
       "14642104     3119023  N-313  34.873291  128.718685  2020-01-01 00:00:00   \n",
       "\n",
       "          is_generator_on  \n",
       "0                   False  \n",
       "1                   False  \n",
       "2                   False  \n",
       "3                   False  \n",
       "4                   False  \n",
       "...                   ...  \n",
       "14642100            False  \n",
       "14642101            False  \n",
       "14642102             True  \n",
       "14642103            False  \n",
       "14642104            False  \n",
       "\n",
       "[14642105 rows x 6 columns]"
      ]
     },
     "execution_count": 3,
     "metadata": {},
     "output_type": "execute_result"
    }
   ],
   "source": [
    "DATA_DIR = \"data/고소차 Data/tele_car_get\"\n",
    "filename = DATA_DIR + \"/11월~03월_use_data.csv\"\n",
    "df = pd.read_csv(filename, encoding='utf-8')\n",
    "df"
   ]
  },
  {
   "cell_type": "code",
   "execution_count": 4,
   "metadata": {},
   "outputs": [
    {
     "name": "stdout",
     "output_type": "stream",
     "text": [
      "Unnamed: 0 :  0  /  14642105\n",
      "eqp_id :  326670  /  14642105\n",
      "gps_lat :  0  /  14642105\n",
      "gps_lon :  0  /  14642105\n",
      "timestamp :  0  /  14642105\n",
      "is_generator_on :  0  /  14642105\n"
     ]
    }
   ],
   "source": [
    "for col in df.columns:\n",
    "    print (col, \": \", sum(df[col].isna()), ' / ', len(df))"
   ]
  },
  {
   "cell_type": "markdown",
   "metadata": {},
   "source": [
    "### DSME YARD 이외로 튀는 좌표 걸러내기"
   ]
  },
  {
   "cell_type": "code",
   "execution_count": 6,
   "metadata": {},
   "outputs": [
    {
     "data": {
      "image/svg+xml": [
       "<svg xmlns=\"http://www.w3.org/2000/svg\" xmlns:xlink=\"http://www.w3.org/1999/xlink\" width=\"100.0\" height=\"100.0\" viewBox=\"34.859544 128.688744 0.042011999999999716 0.04101199999996652\" preserveAspectRatio=\"xMinYMin meet\"><g transform=\"matrix(1,0,0,-1,0,257.4185)\"><path fill-rule=\"evenodd\" fill=\"#66cc99\" stroke=\"#555555\" stroke-width=\"0.0008402399999999943\" opacity=\"0.6\" d=\"M 34.9,128.7148 L 34.8879,128.727 L 34.8797,128.7282 L 34.8787,128.7265 L 34.8803,128.7232 L 34.8713,128.7187 L 34.8652,128.7135 L 34.8611,128.7088 L 34.8689,128.6903 L 34.8822,128.6951 L 34.8895,128.6942 L 34.8994,128.7076 L 34.9,128.7148 z\" /></g></svg>"
      ],
      "text/plain": [
       "<shapely.geometry.polygon.Polygon at 0x2057f1e2588>"
      ]
     },
     "execution_count": 6,
     "metadata": {},
     "output_type": "execute_result"
    }
   ],
   "source": [
    "dsme_work_station = Polygon(DSME_WORK_STATION)\n",
    "dsme_work_station"
   ]
  },
  {
   "cell_type": "code",
   "execution_count": 14,
   "metadata": {},
   "outputs": [
    {
     "name": "stderr",
     "output_type": "stream",
     "text": [
      "100%|████████████████████████████████████████████████████| 14642105/14642105 [10:47<00:00, 22628.47it/s]\n"
     ]
    }
   ],
   "source": [
    "available_gps = []\n",
    "for y, x in tqdm(df[['gps_lat', 'gps_lon']].values):\n",
    "    available_gps.append(check_gps_in_area(y, x, dsme_work_station))"
   ]
  },
  {
   "cell_type": "code",
   "execution_count": 15,
   "metadata": {},
   "outputs": [
    {
     "name": "stdout",
     "output_type": "stream",
     "text": [
      "유효 gps : 14633860개 \n",
      "무효 gps : 8245개\n"
     ]
    }
   ],
   "source": [
    "print('유효 gps : {}개 \\n무효 gps : {}개'.format(available_gps.count(True), available_gps.count(False)))"
   ]
  },
  {
   "cell_type": "code",
   "execution_count": 17,
   "metadata": {},
   "outputs": [],
   "source": [
    "df = df[available_gps]"
   ]
  },
  {
   "cell_type": "code",
   "execution_count": 21,
   "metadata": {},
   "outputs": [
    {
     "data": {
      "text/html": [
       "<div>\n",
       "<style scoped>\n",
       "    .dataframe tbody tr th:only-of-type {\n",
       "        vertical-align: middle;\n",
       "    }\n",
       "\n",
       "    .dataframe tbody tr th {\n",
       "        vertical-align: top;\n",
       "    }\n",
       "\n",
       "    .dataframe thead th {\n",
       "        text-align: right;\n",
       "    }\n",
       "</style>\n",
       "<table border=\"1\" class=\"dataframe\">\n",
       "  <thead>\n",
       "    <tr style=\"text-align: right;\">\n",
       "      <th></th>\n",
       "      <th>eqp_id</th>\n",
       "      <th>start_timestamp</th>\n",
       "      <th>end_timestamp</th>\n",
       "    </tr>\n",
       "  </thead>\n",
       "  <tbody>\n",
       "    <tr>\n",
       "      <td>0</td>\n",
       "      <td>N-182</td>\n",
       "      <td>2019-11-12 08:21:36</td>\n",
       "      <td>2020-03-18 23:58:23</td>\n",
       "    </tr>\n",
       "    <tr>\n",
       "      <td>1</td>\n",
       "      <td>N-183</td>\n",
       "      <td>2019-11-05 09:23:08</td>\n",
       "      <td>2020-03-18 23:59:19</td>\n",
       "    </tr>\n",
       "    <tr>\n",
       "      <td>2</td>\n",
       "      <td>N-185</td>\n",
       "      <td>2019-11-01 00:01:49</td>\n",
       "      <td>2020-03-18 23:58:16</td>\n",
       "    </tr>\n",
       "    <tr>\n",
       "      <td>3</td>\n",
       "      <td>N-200</td>\n",
       "      <td>2019-11-01 00:01:54</td>\n",
       "      <td>2020-03-18 23:59:14</td>\n",
       "    </tr>\n",
       "    <tr>\n",
       "      <td>4</td>\n",
       "      <td>N-225</td>\n",
       "      <td>2019-11-01 00:01:47</td>\n",
       "      <td>2020-03-18 23:59:03</td>\n",
       "    </tr>\n",
       "    <tr>\n",
       "      <td>...</td>\n",
       "      <td>...</td>\n",
       "      <td>...</td>\n",
       "      <td>...</td>\n",
       "    </tr>\n",
       "    <tr>\n",
       "      <td>231</td>\n",
       "      <td>N-643</td>\n",
       "      <td>2019-11-01 00:00:04</td>\n",
       "      <td>2020-03-18 23:59:31</td>\n",
       "    </tr>\n",
       "    <tr>\n",
       "      <td>232</td>\n",
       "      <td>N-646</td>\n",
       "      <td>2019-11-01 00:01:57</td>\n",
       "      <td>2020-03-18 23:59:39</td>\n",
       "    </tr>\n",
       "    <tr>\n",
       "      <td>233</td>\n",
       "      <td>N-647</td>\n",
       "      <td>2019-11-01 00:01:44</td>\n",
       "      <td>2020-03-18 23:37:32</td>\n",
       "    </tr>\n",
       "    <tr>\n",
       "      <td>234</td>\n",
       "      <td>N-648</td>\n",
       "      <td>2020-01-29 08:45:24</td>\n",
       "      <td>2020-03-18 23:58:17</td>\n",
       "    </tr>\n",
       "    <tr>\n",
       "      <td>235</td>\n",
       "      <td>N-653</td>\n",
       "      <td>2019-11-01 00:01:08</td>\n",
       "      <td>2020-01-30 10:59:28</td>\n",
       "    </tr>\n",
       "  </tbody>\n",
       "</table>\n",
       "<p>236 rows × 3 columns</p>\n",
       "</div>"
      ],
      "text/plain": [
       "    eqp_id      start_timestamp        end_timestamp\n",
       "0    N-182  2019-11-12 08:21:36  2020-03-18 23:58:23\n",
       "1    N-183  2019-11-05 09:23:08  2020-03-18 23:59:19\n",
       "2    N-185  2019-11-01 00:01:49  2020-03-18 23:58:16\n",
       "3    N-200  2019-11-01 00:01:54  2020-03-18 23:59:14\n",
       "4    N-225  2019-11-01 00:01:47  2020-03-18 23:59:03\n",
       "..     ...                  ...                  ...\n",
       "231  N-643  2019-11-01 00:00:04  2020-03-18 23:59:31\n",
       "232  N-646  2019-11-01 00:01:57  2020-03-18 23:59:39\n",
       "233  N-647  2019-11-01 00:01:44  2020-03-18 23:37:32\n",
       "234  N-648  2020-01-29 08:45:24  2020-03-18 23:58:17\n",
       "235  N-653  2019-11-01 00:01:08  2020-01-30 10:59:28\n",
       "\n",
       "[236 rows x 3 columns]"
      ]
     },
     "execution_count": 21,
     "metadata": {},
     "output_type": "execute_result"
    }
   ],
   "source": [
    "start_end_df = df.groupby(['eqp_id'])['timestamp'].agg(start_timestamp='min', end_timestamp='max').reset_index()\n",
    "start_end_df"
   ]
  },
  {
   "cell_type": "code",
   "execution_count": 22,
   "metadata": {},
   "outputs": [],
   "source": [
    "df.to_csv(\"11월~03월_use_data2.csv\")"
   ]
  }
 ],
 "metadata": {
  "kernelspec": {
   "display_name": "Python 3",
   "language": "python",
   "name": "python3"
  },
  "language_info": {
   "codemirror_mode": {
    "name": "ipython",
    "version": 3
   },
   "file_extension": ".py",
   "mimetype": "text/x-python",
   "name": "python",
   "nbconvert_exporter": "python",
   "pygments_lexer": "ipython3",
   "version": "3.6.9"
  }
 },
 "nbformat": 4,
 "nbformat_minor": 2
}
