{
 "cells": [
  {
   "cell_type": "code",
   "execution_count": 5,
   "metadata": {},
   "outputs": [],
   "source": [
    "import os\n",
    "import numpy as np\n",
    "import pandas as pd"
   ]
  },
  {
   "cell_type": "code",
   "execution_count": 6,
   "metadata": {},
   "outputs": [],
   "source": [
    "DATA_DIR = 'data/고소차 Data/tele_car_get'"
   ]
  },
  {
   "cell_type": "code",
   "execution_count": 11,
   "metadata": {
    "scrolled": false
   },
   "outputs": [
    {
     "name": "stdout",
     "output_type": "stream",
     "text": [
      "data/고소차 Data/tele_car_get\\20191101_20191110 tele_car_get.xlsx\n",
      "data/고소차 Data/tele_car_get\\20191111_20191120 tele_car_get.xlsx\n",
      "data/고소차 Data/tele_car_get\\20191121_20191130 tele_car_get.xlsx\n",
      "data/고소차 Data/tele_car_get\\20191201_20191210 tele_car_get.xlsx\n",
      "data/고소차 Data/tele_car_get\\20191211_20191220 tele_car_get.xlsx\n",
      "data/고소차 Data/tele_car_get\\20191221_20191230 tele_car_get.xlsx\n",
      "data/고소차 Data/tele_car_get\\20191231 tele_car_get.xlsx\n",
      "data/고소차 Data/tele_car_get\\20200101_20200110 tele_car_get.xlsx\n",
      "data/고소차 Data/tele_car_get\\20200111_20200120 tele_car_get.xlsx\n",
      "data/고소차 Data/tele_car_get\\20200121_20200130 tele_car_get.xlsx\n",
      "data/고소차 Data/tele_car_get\\20200131 tele_car_get.xlsx\n",
      "data/고소차 Data/tele_car_get\\20200201_20200209 tele_car_get.xlsx\n",
      "data/고소차 Data/tele_car_get\\20200210_20200218 tele_car_get.xlsx\n",
      "data/고소차 Data/tele_car_get\\20200219_20200227 tele_car_get.xlsx\n",
      "data/고소차 Data/tele_car_get\\20200228_20200305 tele_car_get.xlsx\n",
      "data/고소차 Data/tele_car_get\\20200306_20200312 tele_car_get.xlsx\n",
      "data/고소차 Data/tele_car_get\\20200313_20200318 tele_car_get.xlsx\n",
      "data/고소차 Data/tele_car_get\\고소차수집01월.csv\n",
      "data/고소차 Data/tele_car_get\\고소차수집11월.csv\n",
      "data/고소차 Data/tele_car_get\\고소차수집12월.csv\n"
     ]
    }
   ],
   "source": [
    "data_files = [os.path.join(DATA_DIR, filename) for filename in os.listdir(DATA_DIR)]\n",
    "list_df = []\n",
    "\n",
    "for filename in data_files:\n",
    "    print(filename)\n",
    "\n",
    "list_df.append(pd.read_excel(data_files[11]))\n",
    "list_df.append(pd.read_excel(data_files[12]))\n",
    "list_df.append(pd.read_excel(data_files[13]))\n",
    "df = pd.concat(list_df, sort = False)\n",
    "df = df.reset_index(drop = True)"
   ]
  },
  {
   "cell_type": "code",
   "execution_count": 12,
   "metadata": {},
   "outputs": [],
   "source": [
    "fpath = DATA_DIR + \"\\고소차수집02월.csv\"\n",
    "df.to_csv(fpath, header=True, index=True)"
   ]
  },
  {
   "cell_type": "code",
   "execution_count": 13,
   "metadata": {},
   "outputs": [],
   "source": [
    "list_df2 = []\n",
    "list_df2.append(pd.read_excel(data_files[14]))\n",
    "list_df2.append(pd.read_excel(data_files[15]))\n",
    "list_df2.append(pd.read_excel(data_files[16]))\n",
    "df2 = pd.concat(list_df2, sort = False)\n",
    "df2 = df2.reset_index(drop = True)"
   ]
  },
  {
   "cell_type": "code",
   "execution_count": 14,
   "metadata": {},
   "outputs": [],
   "source": [
    "fpath = DATA_DIR + \"\\고소차수집03월.csv\"\n",
    "df2.to_csv(fpath, header=True, index=True)"
   ]
  },
  {
   "cell_type": "code",
   "execution_count": null,
   "metadata": {},
   "outputs": [],
   "source": []
  }
 ],
 "metadata": {
  "kernelspec": {
   "display_name": "Python 3",
   "language": "python",
   "name": "python3"
  },
  "language_info": {
   "codemirror_mode": {
    "name": "ipython",
    "version": 3
   },
   "file_extension": ".py",
   "mimetype": "text/x-python",
   "name": "python",
   "nbconvert_exporter": "python",
   "pygments_lexer": "ipython3",
   "version": "3.6.9"
  }
 },
 "nbformat": 4,
 "nbformat_minor": 2
}
